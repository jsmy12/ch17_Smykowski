{
 "cells": [
  {
   "cell_type": "code",
   "execution_count": 1,
   "id": "cd6e5f2f-ff87-4aea-9248-96bbfdc7afca",
   "metadata": {},
   "outputs": [],
   "source": [
    "import sqlite3"
   ]
  },
  {
   "cell_type": "code",
   "execution_count": 3,
   "id": "1c9a129f-fa85-47b0-bdb8-19a14801bc10",
   "metadata": {},
   "outputs": [
    {
     "name": "stdout",
     "output_type": "stream",
     "text": [
      "('Wald',)\n",
      "('Quirk',)\n",
      "('Deitel',)\n",
      "('Deitel',)\n",
      "('Deitel',)\n"
     ]
    }
   ],
   "source": [
    "connection = sqlite3.connect(\"books.db\")\n",
    "cursor = connection.cursor()\n",
    "cursor.execute(\"SELECT last FROM authors ORDER BY last DESC\")\n",
    "\n",
    "authors = cursor.fetchall()\n",
    "\n",
    "for author in authors:\n",
    "    print(author)"
   ]
  },
  {
   "cell_type": "code",
   "execution_count": 5,
   "id": "10df0e4a-5965-494c-be7b-4ee4f7991ee0",
   "metadata": {},
   "outputs": [
    {
     "name": "stdout",
     "output_type": "stream",
     "text": [
      "('Android 6 for Programmers',)\n",
      "('Android How to Program',)\n",
      "('C How to Program',)\n",
      "('C++ How to Program',)\n",
      "('Internet & WWW How to Program',)\n",
      "('Intro to Python for CS and DS',)\n",
      "('Java How to Program',)\n",
      "('Visual Basic 2012 How to Program',)\n",
      "('Visual C# How to Program',)\n",
      "('Visual C++ How to Program',)\n"
     ]
    }
   ],
   "source": [
    "cursor.execute(\"SELECT title FROM titles ORDER BY title ASC\")\n",
    "\n",
    "titles = cursor.fetchall()\n",
    "\n",
    "for title in titles:\n",
    "    print(title)"
   ]
  },
  {
   "cell_type": "code",
   "execution_count": 11,
   "id": "c63c110e-f782-4477-a8c9-2a448ebd6b39",
   "metadata": {},
   "outputs": [
    {
     "name": "stdout",
     "output_type": "stream",
     "text": [
      "('Android 6 for Programmers', '2016', '0134289366')\n"
     ]
    }
   ],
   "source": [
    "cursor.execute(\"\"\"\n",
    "SELECT titles.title, titles.copyright, titles.isbn\n",
    "FROM authors\n",
    "INNER JOIN author_ISBN ON authors.id = author_ISBN.id\n",
    "INNER JOIN titles ON author_ISBN.isbn = titles.isbn\n",
    "WHERE authors.last = 'Wald'\n",
    "ORDER BY titles.title\n",
    "\"\"\")\n",
    "\n",
    "books = cursor.fetchall()\n",
    "for book in books:\n",
    "    print(book)"
   ]
  },
  {
   "cell_type": "code",
   "execution_count": 13,
   "id": "cdf340c1-0bc2-4460-8b6d-2abc78ea99fe",
   "metadata": {},
   "outputs": [
    {
     "name": "stdout",
     "output_type": "stream",
     "text": [
      "[(6, 'Justin', 'Smykowski')]\n"
     ]
    }
   ],
   "source": [
    "cursor.execute(\"INSERT INTO authors (first, last) VALUES (?,?)\", (\"Justin\", \"Smykowski\"))\n",
    "connection.commit()\n",
    "\n",
    "cursor.execute(\"SELECT * FROM authors WHERE last = 'Smykowski'\")\n",
    "print(cursor.fetchall())\n"
   ]
  },
  {
   "cell_type": "code",
   "execution_count": 23,
   "id": "7b684ca6-1cce-4736-9ee5-935a3a95f71d",
   "metadata": {},
   "outputs": [
    {
     "name": "stdout",
     "output_type": "stream",
     "text": [
      "[('Justin', 'Smykowski', 'Python With Justin')]\n"
     ]
    }
   ],
   "source": [
    "cursor.execute(\"INSERT INTO titles (isbn, title, edition, copyright) VALUES (?,?,?,?)\", (\"5286465235\", \"Python With Justin\", 1, \"2025\"))\n",
    "connection.commit()\n",
    "\n",
    "cursor.execute(\"SELECT id FROM authors WHERE last = 'Smykowski'\")\n",
    "smy = cursor.fetchone()[0]\n",
    "cursor.execute(\"INSERT INTO author_ISBN (id, isbn) VALUES (?,?)\", (smy, \"5286465235\"))\n",
    "connection.commit()\n",
    "\n",
    "cursor.execute(\"\"\"\n",
    "SELECT authors.first, authors.last, titles.title\n",
    "FROM authors\n",
    "JOIN author_ISBN ON authors.id = author_ISBN.id\n",
    "JOIN titles ON titles.isbn = author_ISBN.isbn\n",
    "WHERE authors.last = 'Smykowski'\n",
    "\"\"\")\n",
    "print(cursor.fetchall())"
   ]
  },
  {
   "cell_type": "code",
   "execution_count": 27,
   "id": "639a4dff-2d1c-4488-9949-4b0d422c0f0d",
   "metadata": {},
   "outputs": [],
   "source": [
    "connection.close()"
   ]
  },
  {
   "cell_type": "code",
   "execution_count": null,
   "id": "2db61ead-8428-4c63-a506-e5d200e16059",
   "metadata": {},
   "outputs": [],
   "source": []
  }
 ],
 "metadata": {
  "kernelspec": {
   "display_name": "Python 3 (ipykernel)",
   "language": "python",
   "name": "python3"
  },
  "language_info": {
   "codemirror_mode": {
    "name": "ipython",
    "version": 3
   },
   "file_extension": ".py",
   "mimetype": "text/x-python",
   "name": "python",
   "nbconvert_exporter": "python",
   "pygments_lexer": "ipython3",
   "version": "3.12.3"
  }
 },
 "nbformat": 4,
 "nbformat_minor": 5
}

{
 "cells": [
  {
   "cell_type": "code",
   "execution_count": 18,
   "id": "080669b5-ca69-486c-a18e-dd1cd1d44683",
   "metadata": {},
   "outputs": [],
   "source": [
    "import sqlite3\n",
    "import pandas as pd"
   ]
  },
  {
   "cell_type": "code",
   "execution_count": 20,
   "id": "e042db42-28d8-415f-af14-99849a1beb47",
   "metadata": {},
   "outputs": [
    {
     "name": "stdout",
     "output_type": "stream",
     "text": [
      "isbn / title / edition / copyright\n",
      "-----------------------------------------------------\n",
      "0135404673 / Intro to Python for CS and DS / 1 / 2020\n",
      "0132151006 / Internet & WWW How to Program / 5 / 2012\n",
      "0134743350 / Java How to Program / 11 / 2018\n",
      "0133976890 / C How to Program / 8 / 2016\n",
      "0133406954 / Visual Basic 2012 How to Program / 6 / 2014\n",
      "0134601548 / Visual C# How to Program / 6 / 2017\n",
      "0136151574 / Visual C++ How to Program / 2 / 2008\n",
      "0134448235 / C++ How to Program / 10 / 2017\n",
      "0134444302 / Android How to Program / 3 / 2017\n",
      "0134289366 / Android 6 for Programmers / 3 / 2016\n"
     ]
    }
   ],
   "source": [
    "connection = sqlite3.connect('books.db')\n",
    "cursor = connection.cursor()\n",
    "cursor.execute(\"SELECT * FROM titles\")\n",
    "\n",
    "columnName = [description[0] for description in cursor.description]\n",
    "r = cursor.fetchall()\n",
    "print(\" / \".join(columnName))\n",
    "print(\"-----------------------------------------------------\")\n",
    "\n",
    "for row in r:\n",
    "    print(\" / \".join(str(item) for item in row))\n",
    "\n",
    "connection.close()"
   ]
  },
  {
   "cell_type": "code",
   "execution_count": null,
   "id": "bfeb35c4-bf2d-45fe-b978-e23073c3caf7",
   "metadata": {},
   "outputs": [],
   "source": []
  }
 ],
 "metadata": {
  "kernelspec": {
   "display_name": "Python 3 (ipykernel)",
   "language": "python",
   "name": "python3"
  },
  "language_info": {
   "codemirror_mode": {
    "name": "ipython",
    "version": 3
   },
   "file_extension": ".py",
   "mimetype": "text/x-python",
   "name": "python",
   "nbconvert_exporter": "python",
   "pygments_lexer": "ipython3",
   "version": "3.12.3"
  }
 },
 "nbformat": 4,
 "nbformat_minor": 5
}
